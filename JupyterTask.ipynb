{
  "metadata": {
    "kernelspec": {
      "name": "python",
      "display_name": "Python (Pyodide)",
      "language": "python"
    },
    "language_info": {
      "codemirror_mode": {
        "name": "python",
        "version": 3
      },
      "file_extension": ".py",
      "mimetype": "text/x-python",
      "name": "python",
      "nbconvert_exporter": "python",
      "pygments_lexer": "ipython3",
      "version": "3.8"
    }
  },
  "nbformat_minor": 5,
  "nbformat": 4,
  "cells": [
    {
      "id": "bcd2c82c-e8eb-4ad6-ac7b-65854ed4ee7e",
      "cell_type": "markdown",
      "source": "# Data Science Tools and Ecosystem\n",
      "metadata": {}
    },
    {
      "id": "c758fca3-9834-48d9-9dfd-6b8e1cea7ba9",
      "cell_type": "markdown",
      "source": "In this notebook, we will explore various tools, libraries, and languages used in the field of Data Science. Additionally, we will demonstrate basic arithmetic operations using Python.\n",
      "metadata": {}
    },
    {
      "id": "689f1556-0300-4cd6-becf-dfa496e2876c",
      "cell_type": "markdown",
      "source": "## Data Science Languages\n Python\n R\n SQL\n Julia\n Scala\n",
      "metadata": {}
    },
    {
      "id": "e533b8e6-c411-42e1-a11e-bdc0c7b0c19b",
      "cell_type": "markdown",
      "source": "## Data Science Libraries\n Pandas\n NumPy\n Matplotlib\n Scikit-learn\n TensorFlow\n Keras\n",
      "metadata": {}
    },
    {
      "id": "f7853b24-9d85-4fe3-8bee-ea17ea605a31",
      "cell_type": "markdown",
      "source": "## Data Science Tools\n\n| Tool             | Category         |\n|------------------|------------------|\n| Jupyter Notebook | IDE/Notebook     |\n| RStudio          | IDE              |\n| Apache Hadoop    | Big Data Tool    |\n| TensorFlow       | ML Library       |\n| PowerBI          | Visualization    |\n",
      "metadata": {}
    },
    {
      "id": "a3dd9bf7-2a57-4118-893f-1f93a44bce5b",
      "cell_type": "markdown",
      "source": "### Below are examples of arithmetic expressions in Python.\n",
      "metadata": {}
    },
    {
      "id": "a0288fb1-bc91-49ee-af6c-8b9d6caa4533",
      "cell_type": "code",
      "source": "# This expression multiplies 3 and 4, then adds 5\nresult = (3 * 4) + 5\nresult\n",
      "metadata": {
        "trusted": true
      },
      "outputs": [
        {
          "execution_count": 3,
          "output_type": "execute_result",
          "data": {
            "text/plain": "17"
          },
          "metadata": {}
        }
      ],
      "execution_count": 3
    },
    {
      "id": "9826932a-5638-45e6-8742-6a5f13b6d3ba",
      "cell_type": "code",
      "source": "# This will convert 200 minutes to hours\nminutes = 200\nhours = minutes / 60\nhours\n",
      "metadata": {
        "trusted": true
      },
      "outputs": [
        {
          "execution_count": 4,
          "output_type": "execute_result",
          "data": {
            "text/plain": "3.3333333333333335"
          },
          "metadata": {}
        }
      ],
      "execution_count": 4
    },
    {
      "id": "c9633f9f-e4e6-4073-b405-c3b1c27fa523",
      "cell_type": "markdown",
      "source": "### Objectives\n List popular languages for Data Science\n Introduce commonly used libraries\n Showcase arithmetic operations\n Demonstrate markdown usage in Jupyter\n Share notebook via GitHub\n",
      "metadata": {}
    },
    {
      "id": "dfc9f1a7-f2ee-4710-9dec-35ca862e520d",
      "cell_type": "markdown",
      "source": "**Author:** Sehar\n",
      "metadata": {}
    },
    {
      "id": "42b56c90-7582-4cbe-8d98-45ba4881cf4b",
      "cell_type": "code",
      "source": "",
      "metadata": {
        "trusted": true
      },
      "outputs": [],
      "execution_count": null
    }
  ]
}